{
 "cells": [
  {
   "cell_type": "code",
   "execution_count": 55,
   "metadata": {},
   "outputs": [],
   "source": [
    "# import necessary modules\n",
    "import pandas as pd, numpy as np, matplotlib.pyplot as plt, time\n",
    "from sklearn.cluster import DBSCAN\n",
    "from geopy.distance import great_circle\n",
    "from shapely.geometry import MultiPoint\n",
    "from datetime import datetime as dt\n",
    "\n",
    "# magic command to display matplotlib plots inline within the ipython notebook\n",
    "%matplotlib inline\n",
    "import json"
   ]
  },
  {
   "cell_type": "code",
   "execution_count": 56,
   "metadata": {},
   "outputs": [],
   "source": [
    "import xml.etree.ElementTree as ET\n",
    "from collections import namedtuple\n",
    "\n",
    "import requests\n",
    "\n",
    "MUNI_METRO_ROUTES = frozenset([\"N\", \"M\", \"L\", \"KT\", \"J\"])\n",
    "Vehicle = namedtuple(\"Vehicle\", \"lat lon route_tag\")\n",
    "\n",
    "def parse_muni_data(api_response):\n",
    "\n",
    "    vehicles = ET.fromstring(api_response).getchildren()\n",
    "    vehicles = [\n",
    "        v for v in vehicles\n",
    "        if v.attrib.get('routeTag') in MUNI_METRO_ROUTES\n",
    "    ]\n",
    "    filtered_vehicles = [\n",
    "        Vehicle(v.attrib['lat'], v.attrib['lon'], v.attrib['routeTag'])\n",
    "        for v in vehicles\n",
    "        if 'lat' in v.attrib and 'lon' in v.attrib\n",
    "    ]\n",
    "    return filtered_vehicles\n",
    "\n",
    "def get_raw_muni_data():\n",
    "    return requests.get(\"http://webservices.nextbus.com/service/publicXMLFeed?command=vehicleLocations&a=sf-muni&t=0\").text\n",
    "\n",
    "locs = parse_muni_data(get_raw_muni_data())\n",
    "with open(\"testdata.json\", 'w') as f:\n",
    "    f.write(json.dumps((list(map(lambda x: dict(x._asdict()), locs)))))"
   ]
  },
  {
   "cell_type": "code",
   "execution_count": 57,
   "metadata": {},
   "outputs": [
    {
     "name": "stdout",
     "output_type": "stream",
     "text": [
      "There are 73 rows\n"
     ]
    }
   ],
   "source": [
    "df_gps = pd.read_json('testdata.json')\n",
    "print('There are {:,} rows'.format(len(df_gps)))\n"
   ]
  },
  {
   "cell_type": "code",
   "execution_count": 58,
   "metadata": {},
   "outputs": [],
   "source": [
    "# define the number of kilometers in one radian\n",
    "kms_per_radian = 6371.0088\n",
    "def get_centermost_point(cluster):\n",
    "    centroid = (MultiPoint(cluster).centroid.x, MultiPoint(cluster).centroid.y)\n",
    "    centermost_point = min(cluster, key=lambda point: great_circle(point, centroid).m)\n",
    "    return tuple(centermost_point)\n",
    "\n",
    "def dbscan_reduce(df, epsilon, x='lon', y='lat'):\n",
    "    start_time = time.time()\n",
    "    # represent points consistently as (lat, lon) and convert to radians to fit using haversine metric\n",
    "    coords = df.as_matrix(columns=[y, x])    \n",
    "    db = DBSCAN(eps=epsilon, min_samples=1, algorithm='ball_tree', metric='haversine').fit(np.radians(coords))\n",
    "    cluster_labels = db.labels_\n",
    "    num_clusters = len(set(cluster_labels))\n",
    "    print('Number of clusters: {:,}'.format(num_clusters))\n",
    "    \n",
    "    clusters = pd.Series([coords[cluster_labels==n] for n in range(num_clusters)])\n",
    "    \n",
    "    # find the point in each cluster that is closest to its centroid\n",
    "    centermost_points = clusters.map(get_centermost_point)\n",
    "\n",
    "    # unzip the list of centermost points (lat, lon) tuples into separate lat and lon lists\n",
    "    lats, lons = zip(*centermost_points)\n",
    "    rep_points = pd.DataFrame({x:lons, y:lats})\n",
    "    rep_points.tail()\n",
    "    \n",
    "    # pull row from original data set where lat/lon match the lat/lon of each row of representative points\n",
    "    rs = rep_points.apply(lambda row: df[(df[y]==row[y]) & (df[x]==row[x])].iloc[0], axis=1)\n",
    "    \n",
    "    # all done, print outcome\n",
    "    message = 'Clustered {:,} points down to {:,} points, for {:.2f}% compression in {:,.2f} seconds.'\n",
    "    print(message.format(len(df), len(rs), 100*(1 - float(len(rs)) / len(df)), time.time()-start_time))    \n",
    "    return rs\n"
   ]
  },
  {
   "cell_type": "code",
   "execution_count": null,
   "metadata": {},
   "outputs": [],
   "source": [
    "\n"
   ]
  },
  {
   "cell_type": "code",
   "execution_count": 71,
   "metadata": {},
   "outputs": [
    {
     "name": "stdout",
     "output_type": "stream",
     "text": [
      "Number of clusters: 8\n",
      "Clustered 73 points down to 8 points, for 89.04% compression in 0.11 seconds.\n"
     ]
    },
    {
     "data": {
      "text/plain": [
       "<matplotlib.legend.Legend at 0x117f93f28>"
      ]
     },
     "execution_count": 71,
     "metadata": {},
     "output_type": "execute_result"
    },
    {
     "data": {
      "image/png": "[encoded data removed]",
      "text/plain": [
       "<matplotlib.figure.Figure at 0x115de9278>"
      ]
     },
     "metadata": {},
     "output_type": "display_data"
    }
   ],
   "source": [
    "eps_rad = 1.5 / kms_per_radian\n",
    "df_clustered = dbscan_reduce(df_gps, epsilon=eps_rad)\n",
    "# show a map of the worldwide data points\n",
    "fig, ax = plt.subplots(figsize=[11, 8])\n",
    "rs_scatter = ax.scatter(df_clustered['lon'], df_clustered['lat'], c='m', edgecolor='None', alpha=0.3, s=120)\n",
    "df_scatter = ax.scatter(df_gps['lon'], df_gps['lat'], c='k', alpha=0.5, s=3)\n",
    "ax.set_title('Full data set vs DBSCAN reduced set')\n",
    "ax.set_xlabel('Longitude')\n",
    "ax.set_ylabel('Latitude')\n",
    "ax.legend([df_scatter, rs_scatter], ['Full set', 'Reduced set'], loc='upper right')\n"
   ]
  },
  {
   "cell_type": "code",
   "execution_count": 54,
   "metadata": {},
   "outputs": [
    {
     "data": {
      "text/html": [
       "<div>\n",
       "<style>\n",
       "    .dataframe thead tr:only-child th {\n",
       "        text-align: right;\n",
       "    }\n",
       "\n",
       "    .dataframe thead th {\n",
       "        text-align: left;\n",
       "    }\n",
       "\n",
       "    .dataframe tbody tr th {\n",
       "        vertical-align: top;\n",
       "    }\n",
       "</style>\n",
       "<table border=\"1\" class=\"dataframe\">\n",
       "  <thead>\n",
       "    <tr style=\"text-align: right;\">\n",
       "      <th></th>\n",
       "      <th>lat</th>\n",
       "      <th>lon</th>\n",
       "      <th>route_tag</th>\n",
       "    </tr>\n",
       "  </thead>\n",
       "  <tbody>\n",
       "    <tr>\n",
       "      <th>0</th>\n",
       "      <td>37.76945</td>\n",
       "      <td>-122.42950</td>\n",
       "      <td>N</td>\n",
       "    </tr>\n",
       "    <tr>\n",
       "      <th>1</th>\n",
       "      <td>37.72262</td>\n",
       "      <td>-122.44676</td>\n",
       "      <td>N</td>\n",
       "    </tr>\n",
       "  </tbody>\n",
       "</table>\n",
       "</div>"
      ],
      "text/plain": [
       "        lat        lon route_tag\n",
       "0  37.76945 -122.42950         N\n",
       "1  37.72262 -122.44676         N"
      ]
     },
     "execution_count": 54,
     "metadata": {},
     "output_type": "execute_result"
    }
   ],
   "source": [
    "df_clustered"
   ]
  },
  {
   "cell_type": "code",
   "execution_count": null,
   "metadata": {
    "collapsed": true
   },
   "outputs": [],
   "source": []
  }
 ],
 "metadata": {
  "kernelspec": {
   "display_name": "Python 3",
   "language": "python",
   "name": "python3"
  },
  "language_info": {
   "codemirror_mode": {
    "name": "ipython",
    "version": 3
   },
   "file_extension": ".py",
   "mimetype": "text/x-python",
   "name": "python",
   "nbconvert_exporter": "python",
   "pygments_lexer": "ipython3",
   "version": "3.6.1"
  }
 },
 "nbformat": 4,
 "nbformat_minor": 2
}

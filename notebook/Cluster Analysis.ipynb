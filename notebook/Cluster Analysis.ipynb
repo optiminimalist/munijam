{
 "cells": [
  {
   "cell_type": "code",
   "execution_count": 1,
   "metadata": {
    "collapsed": true
   },
   "outputs": [],
   "source": [
    "# import necessary modules\n",
    "import pandas as pd, numpy as np, matplotlib.pyplot as plt, time\n",
    "from sklearn.cluster import DBSCAN\n",
    "from geopy.distance import great_circle\n",
    "from shapely.geometry import MultiPoint\n",
    "from datetime import datetime as dt\n",
    "\n",
    "# magic command to display matplotlib plots inline within the ipython notebook\n",
    "%matplotlib inline\n"
   ]
  },
  {
   "cell_type": "code",
   "execution_count": 3,
   "metadata": {},
   "outputs": [],
   "source": [
    "import xml.etree.ElementTree as ET\n",
    "from collections import namedtuple\n",
    "\n",
    "import requests\n",
    "\n",
    "MUNI_METRO_ROUTES = frozenset([\"N\", \"M\", \"L\", \"KT\", \"J\"])\n",
    "Vehicle = namedtuple(\"Vehicle\", \"lat lon route_tag\")\n",
    "\n",
    "def parse_muni_data(api_response):\n",
    "\n",
    "    vehicles = ET.fromstring(api_response).getchildren()\n",
    "    vehicles = [\n",
    "        v for v in vehicles\n",
    "        if v.attrib.get('routeTag') in MUNI_METRO_ROUTES\n",
    "    ]\n",
    "    filtered_vehicles = [\n",
    "        Vehicle(v.attrib['lat'], v.attrib['lon'], v.attrib['routeTag'])\n",
    "        for v in vehicles\n",
    "        if 'lat' in v.attrib and 'lon' in v.attrib\n",
    "    ]\n",
    "    return filtered_vehicles\n",
    "\n",
    "def get_raw_muni_data():\n",
    "    return requests.get(\"http://webservices.nextbus.com/service/publicXMLFeed?command=vehicleLocations&a=sf-muni&t=0\").text\n",
    "\n",
    "locs = parse_muni_data(get_raw_muni_data())\n"
   ]
  },
  {
   "cell_type": "code",
   "execution_count": 4,
   "metadata": {},
   "outputs": [
    {
     "data": {
      "text/plain": [
       "[Vehicle(lat='37.7432', lon='-122.47263', route_tag='L'),\n",
       " Vehicle(lat='37.71237', lon='-122.40177', route_tag='KT'),\n",
       " Vehicle(lat='37.7930599', lon='-122.3965', route_tag='N'),\n",
       " Vehicle(lat='37.77726', lon='-122.41643', route_tag='L'),\n",
       " Vehicle(lat='37.7237099', lon='-122.44414', route_tag='J'),\n",
       " Vehicle(lat='37.76526', lon='-122.38898', route_tag='KT'),\n",
       " Vehicle(lat='37.76183', lon='-122.47431', route_tag='N'),\n",
       " Vehicle(lat='37.74239', lon='-122.4906', route_tag='L'),\n",
       " Vehicle(lat='37.77565', lon='-122.39498', route_tag='N'),\n",
       " Vehicle(lat='37.73614', lon='-122.50467', route_tag='L'),\n",
       " Vehicle(lat='37.76914', lon='-122.38932', route_tag='KT'),\n",
       " Vehicle(lat='37.75869', lon='-122.44137', route_tag='L'),\n",
       " Vehicle(lat='37.7142399', lon='-122.4683', route_tag='M'),\n",
       " Vehicle(lat='37.76598', lon='-122.4289', route_tag='J'),\n",
       " Vehicle(lat='37.74855', lon='-122.38744', route_tag='N'),\n",
       " Vehicle(lat='37.7746', lon='-122.41979', route_tag='N'),\n",
       " Vehicle(lat='37.74203', lon='-122.46502', route_tag='M'),\n",
       " Vehicle(lat='37.76033', lon='-122.5092', route_tag='N'),\n",
       " Vehicle(lat='37.76428', lon='-122.46071', route_tag='N'),\n",
       " Vehicle(lat='37.72302', lon='-122.45057', route_tag='KT'),\n",
       " Vehicle(lat='37.76432', lon='-122.46025', route_tag='N'),\n",
       " Vehicle(lat='37.74815', lon='-122.4272', route_tag='J'),\n",
       " Vehicle(lat='37.7746', lon='-122.41979', route_tag='N'),\n",
       " Vehicle(lat='37.76684', lon='-122.42963', route_tag='M'),\n",
       " Vehicle(lat='37.7917', lon='-122.39071', route_tag='N'),\n",
       " Vehicle(lat='37.77367', lon='-122.42096', route_tag='KT'),\n",
       " Vehicle(lat='37.72256', lon='-122.44514', route_tag='J'),\n",
       " Vehicle(lat='37.76035', lon='-122.50794', route_tag='N'),\n",
       " Vehicle(lat='37.7905', lon='-122.39968', route_tag='J'),\n",
       " Vehicle(lat='37.73539', lon='-122.47131', route_tag='KT'),\n",
       " Vehicle(lat='37.76003', lon='-122.5092', route_tag='N'),\n",
       " Vehicle(lat='37.76156', lon='-122.48068', route_tag='N'),\n",
       " Vehicle(lat='37.78475', lon='-122.38813', route_tag='KT'),\n",
       " Vehicle(lat='37.71593', lon='-122.45056', route_tag='M'),\n",
       " Vehicle(lat='37.7191', lon='-122.44792', route_tag='M'),\n",
       " Vehicle(lat='37.78496', lon='-122.40672', route_tag='M'),\n",
       " Vehicle(lat='37.74835', lon='-122.45902', route_tag='KT'),\n",
       " Vehicle(lat='37.79061', lon='-122.38977', route_tag='KT'),\n",
       " Vehicle(lat='37.74163', lon='-122.46525', route_tag='L'),\n",
       " Vehicle(lat='37.72225', lon='-122.44702', route_tag='KT'),\n",
       " Vehicle(lat='37.72011', lon='-122.44608', route_tag='J'),\n",
       " Vehicle(lat='37.76958', lon='-122.42776', route_tag='N'),\n",
       " Vehicle(lat='37.76155', lon='-122.48102', route_tag='N'),\n",
       " Vehicle(lat='37.78', lon='-122.41298', route_tag='M'),\n",
       " Vehicle(lat='37.72672', lon='-122.47489', route_tag='M'),\n",
       " Vehicle(lat='37.70793', lon='-122.40559', route_tag='KT'),\n",
       " Vehicle(lat='37.78787', lon='-122.40298', route_tag='L'),\n",
       " Vehicle(lat='37.77581', lon='-122.39446', route_tag='N'),\n",
       " Vehicle(lat='37.76541', lon='-122.45317', route_tag='N'),\n",
       " Vehicle(lat='37.76727', lon='-122.42896', route_tag='J'),\n",
       " Vehicle(lat='37.76188', lon='-122.47314', route_tag='N'),\n",
       " Vehicle(lat='37.76531', lon='-122.45366', route_tag='N'),\n",
       " Vehicle(lat='37.75047', lon='-122.42736', route_tag='J'),\n",
       " Vehicle(lat='37.76064', lon='-122.50133', route_tag='N'),\n",
       " Vehicle(lat='37.72103', lon='-122.44706', route_tag='KT'),\n",
       " Vehicle(lat='37.76528', lon='-122.38896', route_tag='KT'),\n",
       " Vehicle(lat='37.76958', lon='-122.42776', route_tag='N'),\n",
       " Vehicle(lat='37.77691', lon='-122.39342', route_tag='KT'),\n",
       " Vehicle(lat='37.74776', lon='-122.45927', route_tag='KT'),\n",
       " Vehicle(lat='37.79132', lon='-122.39044', route_tag='N'),\n",
       " Vehicle(lat='37.77576', lon='-122.39485', route_tag='N'),\n",
       " Vehicle(lat='37.71998', lon='-122.44624', route_tag='M'),\n",
       " Vehicle(lat='37.7930599', lon='-122.3965', route_tag='N'),\n",
       " Vehicle(lat='37.7605999', lon='-122.50094', route_tag='N'),\n",
       " Vehicle(lat='37.77666', lon='-122.39359', route_tag='N'),\n",
       " Vehicle(lat='37.72125', lon='-122.4473', route_tag='KT'),\n",
       " Vehicle(lat='37.7801199', lon='-122.41316', route_tag='J'),\n",
       " Vehicle(lat='37.73613', lon='-122.50496', route_tag='L'),\n",
       " Vehicle(lat='37.72865', lon='-122.46795', route_tag='KT'),\n",
       " Vehicle(lat='37.76037', lon='-122.50767', route_tag='N')]"
      ]
     },
     "execution_count": 4,
     "metadata": {},
     "output_type": "execute_result"
    }
   ],
   "source": [
    "locs"
   ]
  },
  {
   "cell_type": "code",
   "execution_count": null,
   "metadata": {
    "collapsed": true
   },
   "outputs": [],
   "source": []
  }
 ],
 "metadata": {
  "kernelspec": {
   "display_name": "Python 3",
   "language": "python",
   "name": "python3"
  },
  "language_info": {
   "codemirror_mode": {
    "name": "ipython",
    "version": 3
   },
   "file_extension": ".py",
   "mimetype": "text/x-python",
   "name": "python",
   "nbconvert_exporter": "python",
   "pygments_lexer": "ipython3",
   "version": "3.6.1"
  }
 },
 "nbformat": 4,
 "nbformat_minor": 2
}
